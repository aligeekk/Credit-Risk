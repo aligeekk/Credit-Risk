{
 "cells": [
  {
   "cell_type": "code",
   "execution_count": 125,
   "metadata": {
    "collapsed": true
   },
   "outputs": [],
   "source": [
    "# The purpose of our project is to calculate CREDIT RISK. \n",
    "# The data was gathered from Lending Club.  \n",
    "# The link is https://www.lendingclub.com/info/download-data.action\n",
    "# There is also a data dictionary that comes along, below is the link\n",
    "# https://docs.google.com/spreadsheets/d/191B2yJ4H1ZPXq0_ByhUgWMFZOYem5jFz0Y3by_7YBY4/edit#gid=2081333097\n",
    "# Lending Club is a marketplace for personal loans that matches borrowers who are seeking a loan\n",
    "# with investors looking to lend money and make a return.\n"
   ]
  },
  {
   "cell_type": "code",
   "execution_count": 126,
   "metadata": {
    "collapsed": true
   },
   "outputs": [],
   "source": [
    "import matplotlib.pyplot as plt\n",
    "import pandas as pd\n",
    "import numpy as np"
   ]
  },
  {
   "cell_type": "code",
   "execution_count": 91,
   "metadata": {
    "collapsed": true
   },
   "outputs": [],
   "source": [
    "import os\n",
    "mingw_path = 'C:\\\\Program Files\\\\mingw-w64\\\\x86_64-7.2.0-posix-seh-rt_v5-rev1\\\\mingw64\\\\bin'\n",
    "os.environ['PATH'] = mingw_path + ';' + os.environ['PATH']\n",
    "os.environ['PATH'] = mingw_path + ';' + os.environ['PATH']\n"
   ]
  },
  {
   "cell_type": "code",
   "execution_count": 127,
   "metadata": {
    "collapsed": true
   },
   "outputs": [],
   "source": [
    "# reading our dataset, with some parameters tuned for our ease\n",
    "dataset = pd.read_csv('C:/LoanStats3a.csv', skiprows = 1, low_memory = False)"
   ]
  },
  {
   "cell_type": "code",
   "execution_count": 128,
   "metadata": {},
   "outputs": [
    {
     "name": "stdout",
     "output_type": "stream",
     "text": [
      "<class 'pandas.core.frame.DataFrame'>\n",
      "RangeIndex: 42538 entries, 0 to 42537\n",
      "Columns: 145 entries, id to settlement_term\n",
      "dtypes: float64(115), object(30)\n",
      "memory usage: 47.1+ MB\n"
     ]
    }
   ],
   "source": [
    "# our dataset's shape is (42538 X 145)\n",
    "# taking a look at the variables\n",
    "dataset.info()\n"
   ]
  },
  {
   "cell_type": "code",
   "execution_count": 129,
   "metadata": {},
   "outputs": [
    {
     "data": {
      "text/plain": [
       "(42538, 145)"
      ]
     },
     "execution_count": 129,
     "metadata": {},
     "output_type": "execute_result"
    }
   ],
   "source": [
    "# some info about our dataset\n",
    "dataset.shape\n"
   ]
  },
  {
   "cell_type": "code",
   "execution_count": 130,
   "metadata": {},
   "outputs": [
    {
     "data": {
      "text/plain": [
       "0"
      ]
     },
     "execution_count": 130,
     "metadata": {},
     "output_type": "execute_result"
    }
   ],
   "source": [
    "# there are 115 variables of float type and 30 object type\n",
    "# checking for duplicates\n",
    "dataset.duplicated().sum()\n"
   ]
  },
  {
   "cell_type": "code",
   "execution_count": 131,
   "metadata": {
    "collapsed": true
   },
   "outputs": [],
   "source": [
    "# there are no duplicate rows\n",
    "# checking for missing values, creation of a Series object\n",
    "isnull = dataset.isnull().sum()"
   ]
  },
  {
   "cell_type": "code",
   "execution_count": 132,
   "metadata": {
    "collapsed": true
   },
   "outputs": [],
   "source": [
    "# I choose to drop all columns that have more than 20% missing values.\n",
    "missing= isnull[isnull > (0.2 * 42538) ]\n",
    "dataset = dataset.drop(missing.index , axis = 1)"
   ]
  },
  {
   "cell_type": "code",
   "execution_count": 133,
   "metadata": {},
   "outputs": [
    {
     "data": {
      "text/plain": [
       "(42538, 53)"
      ]
     },
     "execution_count": 133,
     "metadata": {},
     "output_type": "execute_result"
    }
   ],
   "source": [
    "# rechecking of shape\n",
    "dataset.shape"
   ]
  },
  {
   "cell_type": "code",
   "execution_count": null,
   "metadata": {
    "collapsed": true
   },
   "outputs": [],
   "source": [
    "# now the number of columns is 53.\n",
    "# below are the columns, that we are not going to iclude in our model, with a brief explaining next to it\n",
    "\"\"\"\n",
    "funded_amnt: leaks data from the future (after the loan is already started to be funded)\n",
    "funded_amnt_inv: also leaks data from the future (after the loan is already started to be funded)\n",
    "grade: contains redundant information as the interest rate column (int_rate)\n",
    "sub_grade: also contains redundant information as the interest rate column (int_rate)\n",
    "emp_title: requires other data and a lot of processing to potentially be useful\n",
    "issue_d: leaks data from the future (after the loan is already completed funded)\n",
    "zip_code: redundant with the addr_state column since only the first 3 digits of the 5 digit zip code are visible (which only can be used to identify the state the borrower lives in)\n",
    "out_prncp: leaks data from the future, (after the loan already started to be paid off)\n",
    "out_prncp_inv: also leaks data from the future, (after the loan already started to be paid off)\n",
    "total_pymnt: also leaks data from the future, (after the loan already started to be paid off)\n",
    "total_pymnt_inv: also leaks data from the future, (after the loan already started to be paid off)\n",
    "total_rec_prncp: also leaks data from the future, (after the loan already started to be paid off)\n",
    "total_rec_int: leaks data from the future, (after the loan already started to be paid off),\n",
    "total_rec_late_fee: also leaks data from the future, (after the loan already started to be paid off),\n",
    "recoveries: also leaks data from the future, (after the loan already started to be paid off),\n",
    "collection_recovery_fee: also leaks data from the future, (after the loan already started to be paid off),\n",
    "last_pymnt_d: also leaks data from the future, (after the loan already started to be paid off),\n",
    "last_pymnt_amnt: also leaks data from the future, (after the loan already started to be paid off).\n",
    "\"\"\""
   ]
  },
  {
   "cell_type": "code",
   "execution_count": 134,
   "metadata": {
    "collapsed": true
   },
   "outputs": [],
   "source": [
    "# therefore we are going to drop them\n",
    "dataset = dataset.drop([ \"funded_amnt\", \"funded_amnt_inv\", \"grade\", \"sub_grade\", \n",
    "\"emp_title\", \"issue_d\",\"zip_code\", \"out_prncp\", \"out_prncp_inv\", \"total_pymnt\", \"total_pymnt_inv\", \n",
    "\"total_rec_prncp\",\"total_rec_int\", \"total_rec_late_fee\", \"recoveries\", \"collection_recovery_fee\", \n",
    "\"last_pymnt_d\", \"last_pymnt_amnt\"] , axis = 1)"
   ]
  },
  {
   "cell_type": "code",
   "execution_count": 135,
   "metadata": {},
   "outputs": [
    {
     "name": "stdout",
     "output_type": "stream",
     "text": [
      "<class 'pandas.core.frame.DataFrame'>\n",
      "RangeIndex: 42538 entries, 0 to 42537\n",
      "Data columns (total 35 columns):\n",
      "loan_amnt                     42535 non-null float64\n",
      "term                          42535 non-null object\n",
      "int_rate                      42535 non-null object\n",
      "installment                   42535 non-null float64\n",
      "emp_length                    42535 non-null object\n",
      "home_ownership                42535 non-null object\n",
      "annual_inc                    42531 non-null float64\n",
      "verification_status           42535 non-null object\n",
      "loan_status                   42535 non-null object\n",
      "pymnt_plan                    42535 non-null object\n",
      "purpose                       42535 non-null object\n",
      "title                         42523 non-null object\n",
      "addr_state                    42535 non-null object\n",
      "dti                           42535 non-null float64\n",
      "delinq_2yrs                   42506 non-null float64\n",
      "earliest_cr_line              42506 non-null object\n",
      "inq_last_6mths                42506 non-null float64\n",
      "open_acc                      42506 non-null float64\n",
      "pub_rec                       42506 non-null float64\n",
      "revol_bal                     42535 non-null float64\n",
      "revol_util                    42445 non-null object\n",
      "total_acc                     42506 non-null float64\n",
      "initial_list_status           42535 non-null object\n",
      "last_credit_pull_d            42531 non-null object\n",
      "collections_12_mths_ex_med    42390 non-null float64\n",
      "policy_code                   42535 non-null float64\n",
      "application_type              42535 non-null object\n",
      "acc_now_delinq                42506 non-null float64\n",
      "chargeoff_within_12_mths      42390 non-null float64\n",
      "delinq_amnt                   42506 non-null float64\n",
      "pub_rec_bankruptcies          41170 non-null float64\n",
      "tax_liens                     42430 non-null float64\n",
      "hardship_flag                 42535 non-null object\n",
      "disbursement_method           42535 non-null object\n",
      "debt_settlement_flag          42535 non-null object\n",
      "dtypes: float64(17), object(18)\n",
      "memory usage: 11.4+ MB\n"
     ]
    }
   ],
   "source": [
    "dataset.info()"
   ]
  },
  {
   "cell_type": "code",
   "execution_count": 136,
   "metadata": {},
   "outputs": [
    {
     "data": {
      "text/plain": [
       "Fully Paid                                             34116\n",
       "Charged Off                                             5670\n",
       "Does not meet the credit policy. Status:Fully Paid      1988\n",
       "Does not meet the credit policy. Status:Charged Off      761\n",
       "Name: loan_status, dtype: int64"
      ]
     },
     "execution_count": 136,
     "metadata": {},
     "output_type": "execute_result"
    }
   ],
   "source": [
    "# after all the above, our dataset consists of 37 columns\n",
    "# 18 are floats and 19 are objects\n",
    "# it is time to define our target - y variable. It is the column with the name loan_status\n",
    "# let's explore it a little bit\n",
    "dataset['loan_status'].value_counts()"
   ]
  },
  {
   "cell_type": "code",
   "execution_count": 137,
   "metadata": {
    "collapsed": true
   },
   "outputs": [],
   "source": [
    "# there are 4 categories. the two that state that the credit policy is not met, are of no importance\n",
    "# to us. So, we will only keep those rows, that have the corresponding values, Fully Paid and                                             34116\n",
    "# Charged Off. To explain things much further, Charged Off means that the loan was not paid, and \n",
    "# Fully Paid states the obvious\n",
    "dataset = dataset[(dataset['loan_status'] == 'Fully Paid') |(dataset['loan_status'] == 'Charged Off') ]\n"
   ]
  },
  {
   "cell_type": "code",
   "execution_count": 138,
   "metadata": {},
   "outputs": [
    {
     "data": {
      "text/plain": [
       "(39786, 35)"
      ]
     },
     "execution_count": 138,
     "metadata": {},
     "output_type": "execute_result"
    }
   ],
   "source": [
    "dataset.shape\n"
   ]
  },
  {
   "cell_type": "code",
   "execution_count": 139,
   "metadata": {
    "collapsed": true
   },
   "outputs": [],
   "source": [
    "# the rows became less, 39786 to be precise\n",
    "# another thing we should attend to is converting the column to a numeric type, and we choose \n",
    "# Fully paid to be equal to 1 and Charged off to be equal to 0.    \n",
    "\n",
    "dataset['loan_status'] = dataset['loan_status'].str.replace('Fully Paid' , '1')                               \n",
    "dataset['loan_status'] = dataset['loan_status'].str.replace('Charged Off' , '0') "
   ]
  },
  {
   "cell_type": "code",
   "execution_count": 140,
   "metadata": {},
   "outputs": [],
   "source": [
    "# still our target variable is referred as an object.\n",
    "# loan_status                   39786 non-null object \n",
    "# i will convert it to a float\n",
    "dataset['loan_status'] = dataset['loan_status'].astype('float')"
   ]
  },
  {
   "cell_type": "code",
   "execution_count": 141,
   "metadata": {},
   "outputs": [
    {
     "name": "stdout",
     "output_type": "stream",
     "text": [
      "<class 'pandas.core.frame.DataFrame'>\n",
      "Int64Index: 39786 entries, 0 to 39785\n",
      "Data columns (total 35 columns):\n",
      "loan_amnt                     39786 non-null float64\n",
      "term                          39786 non-null object\n",
      "int_rate                      39786 non-null object\n",
      "installment                   39786 non-null float64\n",
      "emp_length                    39786 non-null object\n",
      "home_ownership                39786 non-null object\n",
      "annual_inc                    39786 non-null float64\n",
      "verification_status           39786 non-null object\n",
      "loan_status                   39786 non-null float64\n",
      "pymnt_plan                    39786 non-null object\n",
      "purpose                       39786 non-null object\n",
      "title                         39776 non-null object\n",
      "addr_state                    39786 non-null object\n",
      "dti                           39786 non-null float64\n",
      "delinq_2yrs                   39786 non-null float64\n",
      "earliest_cr_line              39786 non-null object\n",
      "inq_last_6mths                39786 non-null float64\n",
      "open_acc                      39786 non-null float64\n",
      "pub_rec                       39786 non-null float64\n",
      "revol_bal                     39786 non-null float64\n",
      "revol_util                    39736 non-null object\n",
      "total_acc                     39786 non-null float64\n",
      "initial_list_status           39786 non-null object\n",
      "last_credit_pull_d            39784 non-null object\n",
      "collections_12_mths_ex_med    39730 non-null float64\n",
      "policy_code                   39786 non-null float64\n",
      "application_type              39786 non-null object\n",
      "acc_now_delinq                39786 non-null float64\n",
      "chargeoff_within_12_mths      39730 non-null float64\n",
      "delinq_amnt                   39786 non-null float64\n",
      "pub_rec_bankruptcies          39089 non-null float64\n",
      "tax_liens                     39747 non-null float64\n",
      "hardship_flag                 39786 non-null object\n",
      "disbursement_method           39786 non-null object\n",
      "debt_settlement_flag          39786 non-null object\n",
      "dtypes: float64(18), object(17)\n",
      "memory usage: 10.9+ MB\n"
     ]
    }
   ],
   "source": [
    "# let us take another look\n",
    "dataset.info()"
   ]
  },
  {
   "cell_type": "code",
   "execution_count": 142,
   "metadata": {},
   "outputs": [
    {
     "data": {
      "text/plain": [
       "Index(['loan_amnt', 'term', 'int_rate', 'installment', 'emp_length',\n",
       "       'home_ownership', 'annual_inc', 'verification_status', 'loan_status',\n",
       "       'pymnt_plan', 'purpose', 'title', 'addr_state', 'dti', 'delinq_2yrs',\n",
       "       'earliest_cr_line', 'inq_last_6mths', 'open_acc', 'pub_rec',\n",
       "       'revol_bal', 'revol_util', 'total_acc', 'initial_list_status',\n",
       "       'last_credit_pull_d', 'collections_12_mths_ex_med', 'policy_code',\n",
       "       'application_type', 'acc_now_delinq', 'chargeoff_within_12_mths',\n",
       "       'delinq_amnt', 'pub_rec_bankruptcies', 'tax_liens', 'hardship_flag',\n",
       "       'disbursement_method', 'debt_settlement_flag'],\n",
       "      dtype='object')"
      ]
     },
     "execution_count": 142,
     "metadata": {},
     "output_type": "execute_result"
    }
   ],
   "source": [
    "# Another thing we could check, to enhance our preprocessing, would be to check the columns, for their\n",
    "# unique values. If a column contains only one value, then it is of no practical need for any model\n",
    "dataset.columns"
   ]
  },
  {
   "cell_type": "code",
   "execution_count": 143,
   "metadata": {
    "collapsed": true
   },
   "outputs": [],
   "source": [
    "# i will iterate through every column, and append to uniquevaluelist, the length of the unique \n",
    "# values, if the length is equal to 1\n",
    "uniquevaluelist = []\n",
    "for column in dataset.columns:\n",
    "    col_uniq = dataset[column].unique()\n",
    "    if len(col_uniq) == 1:\n",
    "        uniquevaluelist.append(column)"
   ]
  },
  {
   "cell_type": "code",
   "execution_count": 144,
   "metadata": {},
   "outputs": [
    {
     "name": "stdout",
     "output_type": "stream",
     "text": [
      "['pymnt_plan', 'initial_list_status', 'policy_code', 'application_type', 'acc_now_delinq', 'delinq_amnt', 'hardship_flag', 'disbursement_method']\n"
     ]
    }
   ],
   "source": [
    "print(uniquevaluelist)"
   ]
  },
  {
   "cell_type": "code",
   "execution_count": 145,
   "metadata": {
    "collapsed": true
   },
   "outputs": [],
   "source": [
    "# Now let us drop the above columns\n",
    "dataset = dataset.drop(uniquevaluelist, axis = 1)"
   ]
  },
  {
   "cell_type": "code",
   "execution_count": 146,
   "metadata": {},
   "outputs": [
    {
     "data": {
      "text/plain": [
       "loan_amnt                       0\n",
       "term                            0\n",
       "int_rate                        0\n",
       "installment                     0\n",
       "emp_length                      0\n",
       "home_ownership                  0\n",
       "annual_inc                      0\n",
       "verification_status             0\n",
       "loan_status                     0\n",
       "purpose                         0\n",
       "title                          10\n",
       "addr_state                      0\n",
       "dti                             0\n",
       "delinq_2yrs                     0\n",
       "earliest_cr_line                0\n",
       "inq_last_6mths                  0\n",
       "open_acc                        0\n",
       "pub_rec                         0\n",
       "revol_bal                       0\n",
       "revol_util                     50\n",
       "total_acc                       0\n",
       "last_credit_pull_d              2\n",
       "collections_12_mths_ex_med     56\n",
       "chargeoff_within_12_mths       56\n",
       "pub_rec_bankruptcies          697\n",
       "tax_liens                      39\n",
       "debt_settlement_flag            0\n",
       "dtype: int64"
      ]
     },
     "execution_count": 146,
     "metadata": {},
     "output_type": "execute_result"
    }
   ],
   "source": [
    "# and again take a look for extra missing values\n",
    "dataset.isnull().sum()"
   ]
  },
  {
   "cell_type": "code",
   "execution_count": 147,
   "metadata": {
    "collapsed": true
   },
   "outputs": [],
   "source": [
    "# there are still a few columns, containing missing values. we could follow two approaches\n",
    "# we could impute them, IF they are numeric variables , or we could just drop the rows containing \n",
    "# these values. I choose to drop them\n",
    "\n",
    "dataset = dataset.dropna()"
   ]
  },
  {
   "cell_type": "code",
   "execution_count": 148,
   "metadata": {},
   "outputs": [
    {
     "data": {
      "text/html": [
       "<div>\n",
       "<style>\n",
       "    .dataframe thead tr:only-child th {\n",
       "        text-align: right;\n",
       "    }\n",
       "\n",
       "    .dataframe thead th {\n",
       "        text-align: left;\n",
       "    }\n",
       "\n",
       "    .dataframe tbody tr th {\n",
       "        vertical-align: top;\n",
       "    }\n",
       "</style>\n",
       "<table border=\"1\" class=\"dataframe\">\n",
       "  <thead>\n",
       "    <tr style=\"text-align: right;\">\n",
       "      <th></th>\n",
       "      <th>term</th>\n",
       "      <th>int_rate</th>\n",
       "      <th>emp_length</th>\n",
       "      <th>home_ownership</th>\n",
       "      <th>verification_status</th>\n",
       "      <th>purpose</th>\n",
       "      <th>title</th>\n",
       "      <th>addr_state</th>\n",
       "      <th>earliest_cr_line</th>\n",
       "      <th>revol_util</th>\n",
       "      <th>last_credit_pull_d</th>\n",
       "      <th>debt_settlement_flag</th>\n",
       "    </tr>\n",
       "  </thead>\n",
       "  <tbody>\n",
       "    <tr>\n",
       "      <th>0</th>\n",
       "      <td>36 months</td>\n",
       "      <td>10.65%</td>\n",
       "      <td>10+ years</td>\n",
       "      <td>RENT</td>\n",
       "      <td>Verified</td>\n",
       "      <td>credit_card</td>\n",
       "      <td>Computer</td>\n",
       "      <td>AZ</td>\n",
       "      <td>Jan-1985</td>\n",
       "      <td>83.7%</td>\n",
       "      <td>Sep-2018</td>\n",
       "      <td>N</td>\n",
       "    </tr>\n",
       "    <tr>\n",
       "      <th>1</th>\n",
       "      <td>60 months</td>\n",
       "      <td>15.27%</td>\n",
       "      <td>&lt; 1 year</td>\n",
       "      <td>RENT</td>\n",
       "      <td>Source Verified</td>\n",
       "      <td>car</td>\n",
       "      <td>bike</td>\n",
       "      <td>GA</td>\n",
       "      <td>Apr-1999</td>\n",
       "      <td>9.4%</td>\n",
       "      <td>Oct-2016</td>\n",
       "      <td>N</td>\n",
       "    </tr>\n",
       "    <tr>\n",
       "      <th>2</th>\n",
       "      <td>36 months</td>\n",
       "      <td>15.96%</td>\n",
       "      <td>10+ years</td>\n",
       "      <td>RENT</td>\n",
       "      <td>Not Verified</td>\n",
       "      <td>small_business</td>\n",
       "      <td>real estate business</td>\n",
       "      <td>IL</td>\n",
       "      <td>Nov-2001</td>\n",
       "      <td>98.5%</td>\n",
       "      <td>Jun-2017</td>\n",
       "      <td>N</td>\n",
       "    </tr>\n",
       "    <tr>\n",
       "      <th>3</th>\n",
       "      <td>36 months</td>\n",
       "      <td>13.49%</td>\n",
       "      <td>10+ years</td>\n",
       "      <td>RENT</td>\n",
       "      <td>Source Verified</td>\n",
       "      <td>other</td>\n",
       "      <td>personel</td>\n",
       "      <td>CA</td>\n",
       "      <td>Feb-1996</td>\n",
       "      <td>21%</td>\n",
       "      <td>Apr-2016</td>\n",
       "      <td>N</td>\n",
       "    </tr>\n",
       "    <tr>\n",
       "      <th>4</th>\n",
       "      <td>60 months</td>\n",
       "      <td>12.69%</td>\n",
       "      <td>1 year</td>\n",
       "      <td>RENT</td>\n",
       "      <td>Source Verified</td>\n",
       "      <td>other</td>\n",
       "      <td>Personal</td>\n",
       "      <td>OR</td>\n",
       "      <td>Jan-1996</td>\n",
       "      <td>53.9%</td>\n",
       "      <td>Apr-2018</td>\n",
       "      <td>N</td>\n",
       "    </tr>\n",
       "  </tbody>\n",
       "</table>\n",
       "</div>"
      ],
      "text/plain": [
       "         term int_rate emp_length home_ownership verification_status  \\\n",
       "0   36 months   10.65%  10+ years           RENT            Verified   \n",
       "1   60 months   15.27%   < 1 year           RENT     Source Verified   \n",
       "2   36 months   15.96%  10+ years           RENT        Not Verified   \n",
       "3   36 months   13.49%  10+ years           RENT     Source Verified   \n",
       "4   60 months   12.69%     1 year           RENT     Source Verified   \n",
       "\n",
       "          purpose                 title addr_state earliest_cr_line  \\\n",
       "0     credit_card              Computer         AZ         Jan-1985   \n",
       "1             car                  bike         GA         Apr-1999   \n",
       "2  small_business  real estate business         IL         Nov-2001   \n",
       "3           other              personel         CA         Feb-1996   \n",
       "4           other              Personal         OR         Jan-1996   \n",
       "\n",
       "  revol_util last_credit_pull_d debt_settlement_flag  \n",
       "0      83.7%           Sep-2018                    N  \n",
       "1       9.4%           Oct-2016                    N  \n",
       "2      98.5%           Jun-2017                    N  \n",
       "3        21%           Apr-2016                    N  \n",
       "4      53.9%           Apr-2018                    N  "
      ]
     },
     "execution_count": 148,
     "metadata": {},
     "output_type": "execute_result"
    }
   ],
   "source": [
    "#####   CATEGORICAL VARIABLES  ##########3\n",
    "# what about our categorical variables. I will create a dataframe, categdf, containing only them.\n",
    "# I'll take a look at them, and after that i will investigate for each column its unique values.\n",
    "categdf = dataset.select_dtypes(include = ['object'])\n",
    "categdf.head()"
   ]
  },
  {
   "cell_type": "code",
   "execution_count": null,
   "metadata": {
    "collapsed": true
   },
   "outputs": [],
   "source": [
    "# right away i can see that two columns are dates, last_credit_pull_d, earliest_cr_line. they are\n",
    "# gonna be dropped. moreover, column  1 int_rate and 9  revol_util ,are percentages, so\n",
    "# it would be a good idea to turn them into numbers, by removing the % string"
   ]
  },
  {
   "cell_type": "code",
   "execution_count": 149,
   "metadata": {},
   "outputs": [
    {
     "name": "stdout",
     "output_type": "stream",
     "text": [
      "[2, 336, 12, 4, 3, 14, 19193, 48, 526, 1089, 124, 2]\n"
     ]
    }
   ],
   "source": [
    "# furthermore, let us take a look at their unique values, almost the same way we did before\n",
    "valuelist = []\n",
    "for i in categdf.columns:\n",
    "    valuelist.append(len(categdf[i].value_counts()))\n",
    "print(valuelist)"
   ]
  },
  {
   "cell_type": "code",
   "execution_count": null,
   "metadata": {
    "collapsed": true
   },
   "outputs": [],
   "source": [
    "# the column  'title' has 19193 unique values. There is no point in creating dummies. \n",
    "# The column with 1082 values is a date column, which as mentioned , will be dropped."
   ]
  },
  {
   "cell_type": "code",
   "execution_count": 150,
   "metadata": {
    "collapsed": true
   },
   "outputs": [],
   "source": [
    "# let us proceed with some of the manipulations,meaning dropping all of the columns that\n",
    "# we said will be dropped\n",
    "\n",
    "dataset = dataset.drop(['title', 'earliest_cr_line','last_credit_pull_d'], axis = 1)"
   ]
  },
  {
   "cell_type": "code",
   "execution_count": 151,
   "metadata": {
    "collapsed": true
   },
   "outputs": [],
   "source": [
    "# replacing the % string from the columns mentioned above\n",
    "dataset['int_rate'] = dataset['int_rate'].str.replace('%' , \"\")\n",
    "#converting to numeric\n",
    "dataset['int_rate'] = pd.to_numeric(dataset['int_rate'])"
   ]
  },
  {
   "cell_type": "code",
   "execution_count": 152,
   "metadata": {
    "collapsed": true
   },
   "outputs": [],
   "source": [
    "# doing the same for the revol_util column\n",
    "dataset['revol_util'] = dataset['revol_util'].str.replace('%' , \"\")\n",
    "dataset['revol_util'] = pd.to_numeric(dataset['revol_util'])"
   ]
  },
  {
   "cell_type": "code",
   "execution_count": 153,
   "metadata": {},
   "outputs": [
    {
     "name": "stdout",
     "output_type": "stream",
     "text": [
      "<class 'pandas.core.frame.DataFrame'>\n",
      "Int64Index: 39026 entries, 0 to 39692\n",
      "Data columns (total 24 columns):\n",
      "loan_amnt                     39026 non-null float64\n",
      "term                          39026 non-null object\n",
      "int_rate                      39026 non-null float64\n",
      "installment                   39026 non-null float64\n",
      "emp_length                    39026 non-null object\n",
      "home_ownership                39026 non-null object\n",
      "annual_inc                    39026 non-null float64\n",
      "verification_status           39026 non-null object\n",
      "loan_status                   39026 non-null float64\n",
      "purpose                       39026 non-null object\n",
      "addr_state                    39026 non-null object\n",
      "dti                           39026 non-null float64\n",
      "delinq_2yrs                   39026 non-null float64\n",
      "inq_last_6mths                39026 non-null float64\n",
      "open_acc                      39026 non-null float64\n",
      "pub_rec                       39026 non-null float64\n",
      "revol_bal                     39026 non-null float64\n",
      "revol_util                    39026 non-null float64\n",
      "total_acc                     39026 non-null float64\n",
      "collections_12_mths_ex_med    39026 non-null float64\n",
      "chargeoff_within_12_mths      39026 non-null float64\n",
      "pub_rec_bankruptcies          39026 non-null float64\n",
      "tax_liens                     39026 non-null float64\n",
      "debt_settlement_flag          39026 non-null object\n",
      "dtypes: float64(17), object(7)\n",
      "memory usage: 7.4+ MB\n"
     ]
    }
   ],
   "source": [
    "# checking\n",
    "dataset.info()"
   ]
  },
  {
   "cell_type": "code",
   "execution_count": 154,
   "metadata": {},
   "outputs": [
    {
     "data": {
      "text/html": [
       "<div>\n",
       "<style>\n",
       "    .dataframe thead tr:only-child th {\n",
       "        text-align: right;\n",
       "    }\n",
       "\n",
       "    .dataframe thead th {\n",
       "        text-align: left;\n",
       "    }\n",
       "\n",
       "    .dataframe tbody tr th {\n",
       "        vertical-align: top;\n",
       "    }\n",
       "</style>\n",
       "<table border=\"1\" class=\"dataframe\">\n",
       "  <thead>\n",
       "    <tr style=\"text-align: right;\">\n",
       "      <th></th>\n",
       "      <th>term</th>\n",
       "      <th>emp_length</th>\n",
       "      <th>home_ownership</th>\n",
       "      <th>verification_status</th>\n",
       "      <th>purpose</th>\n",
       "      <th>addr_state</th>\n",
       "      <th>debt_settlement_flag</th>\n",
       "    </tr>\n",
       "  </thead>\n",
       "  <tbody>\n",
       "    <tr>\n",
       "      <th>0</th>\n",
       "      <td>36 months</td>\n",
       "      <td>10+ years</td>\n",
       "      <td>RENT</td>\n",
       "      <td>Verified</td>\n",
       "      <td>credit_card</td>\n",
       "      <td>AZ</td>\n",
       "      <td>N</td>\n",
       "    </tr>\n",
       "    <tr>\n",
       "      <th>1</th>\n",
       "      <td>60 months</td>\n",
       "      <td>&lt; 1 year</td>\n",
       "      <td>RENT</td>\n",
       "      <td>Source Verified</td>\n",
       "      <td>car</td>\n",
       "      <td>GA</td>\n",
       "      <td>N</td>\n",
       "    </tr>\n",
       "    <tr>\n",
       "      <th>2</th>\n",
       "      <td>36 months</td>\n",
       "      <td>10+ years</td>\n",
       "      <td>RENT</td>\n",
       "      <td>Not Verified</td>\n",
       "      <td>small_business</td>\n",
       "      <td>IL</td>\n",
       "      <td>N</td>\n",
       "    </tr>\n",
       "    <tr>\n",
       "      <th>3</th>\n",
       "      <td>36 months</td>\n",
       "      <td>10+ years</td>\n",
       "      <td>RENT</td>\n",
       "      <td>Source Verified</td>\n",
       "      <td>other</td>\n",
       "      <td>CA</td>\n",
       "      <td>N</td>\n",
       "    </tr>\n",
       "    <tr>\n",
       "      <th>4</th>\n",
       "      <td>60 months</td>\n",
       "      <td>1 year</td>\n",
       "      <td>RENT</td>\n",
       "      <td>Source Verified</td>\n",
       "      <td>other</td>\n",
       "      <td>OR</td>\n",
       "      <td>N</td>\n",
       "    </tr>\n",
       "  </tbody>\n",
       "</table>\n",
       "</div>"
      ],
      "text/plain": [
       "         term emp_length home_ownership verification_status         purpose  \\\n",
       "0   36 months  10+ years           RENT            Verified     credit_card   \n",
       "1   60 months   < 1 year           RENT     Source Verified             car   \n",
       "2   36 months  10+ years           RENT        Not Verified  small_business   \n",
       "3   36 months  10+ years           RENT     Source Verified           other   \n",
       "4   60 months     1 year           RENT     Source Verified           other   \n",
       "\n",
       "  addr_state debt_settlement_flag  \n",
       "0         AZ                    N  \n",
       "1         GA                    N  \n",
       "2         IL                    N  \n",
       "3         CA                    N  \n",
       "4         OR                    N  "
      ]
     },
     "execution_count": 154,
     "metadata": {},
     "output_type": "execute_result"
    }
   ],
   "source": [
    "# again let us see what are our object cols\n",
    "categdf = dataset.select_dtypes(include = ['object'])\n",
    "categdf.head()"
   ]
  },
  {
   "cell_type": "code",
   "execution_count": 155,
   "metadata": {},
   "outputs": [
    {
     "name": "stdout",
     "output_type": "stream",
     "text": [
      "[2, 12, 4, 3, 14, 48, 2]\n"
     ]
    }
   ],
   "source": [
    "# rechecking for the unique values\n",
    "valuelist2 = []\n",
    "for i in categdf.columns:\n",
    "    valuelist2.append(len(categdf[i].value_counts()))\n",
    "print(valuelist2)"
   ]
  },
  {
   "cell_type": "code",
   "execution_count": 156,
   "metadata": {
    "collapsed": true
   },
   "outputs": [],
   "source": [
    "# I choose to drop  the 'grade' column , and aas for the addr_state, I think 48 dummies are too much\n",
    "# and maybe the geography of the individual is not so important\n",
    "dataset = dataset.drop(['addr_state'] , axis = 1 )"
   ]
  },
  {
   "cell_type": "code",
   "execution_count": 121,
   "metadata": {},
   "outputs": [
    {
     "data": {
      "text/plain": [
       "Index(['term', 'emp_length', 'home_ownership', 'verification_status',\n",
       "       'loan_status', 'purpose', 'debt_settlement_flag'],\n",
       "      dtype='object')"
      ]
     },
     "execution_count": 121,
     "metadata": {},
     "output_type": "execute_result"
    }
   ],
   "source": [
    "# so, finally, we know which variables, should be converted  to dummies\n",
    "# they are the following\n",
    "dataset.select_dtypes(include  = ['object']).columns"
   ]
  },
  {
   "cell_type": "code",
   "execution_count": 157,
   "metadata": {
    "collapsed": true
   },
   "outputs": [],
   "source": [
    "# creation of dummies\n",
    "dataset  = pd.get_dummies(dataset, columns=['term', 'emp_length', 'home_ownership', 'verification_status',\n",
    "                                            'purpose', 'debt_settlement_flag'])"
   ]
  },
  {
   "cell_type": "code",
   "execution_count": 158,
   "metadata": {},
   "outputs": [
    {
     "name": "stdout",
     "output_type": "stream",
     "text": [
      "<class 'pandas.core.frame.DataFrame'>\n",
      "Int64Index: 39026 entries, 0 to 39692\n",
      "Data columns (total 54 columns):\n",
      "loan_amnt                              39026 non-null float64\n",
      "int_rate                               39026 non-null float64\n",
      "installment                            39026 non-null float64\n",
      "annual_inc                             39026 non-null float64\n",
      "loan_status                            39026 non-null float64\n",
      "dti                                    39026 non-null float64\n",
      "delinq_2yrs                            39026 non-null float64\n",
      "inq_last_6mths                         39026 non-null float64\n",
      "open_acc                               39026 non-null float64\n",
      "pub_rec                                39026 non-null float64\n",
      "revol_bal                              39026 non-null float64\n",
      "revol_util                             39026 non-null float64\n",
      "total_acc                              39026 non-null float64\n",
      "collections_12_mths_ex_med             39026 non-null float64\n",
      "chargeoff_within_12_mths               39026 non-null float64\n",
      "pub_rec_bankruptcies                   39026 non-null float64\n",
      "tax_liens                              39026 non-null float64\n",
      "term_ 36 months                        39026 non-null uint8\n",
      "term_ 60 months                        39026 non-null uint8\n",
      "emp_length_1 year                      39026 non-null uint8\n",
      "emp_length_10+ years                   39026 non-null uint8\n",
      "emp_length_2 years                     39026 non-null uint8\n",
      "emp_length_3 years                     39026 non-null uint8\n",
      "emp_length_4 years                     39026 non-null uint8\n",
      "emp_length_5 years                     39026 non-null uint8\n",
      "emp_length_6 years                     39026 non-null uint8\n",
      "emp_length_7 years                     39026 non-null uint8\n",
      "emp_length_8 years                     39026 non-null uint8\n",
      "emp_length_9 years                     39026 non-null uint8\n",
      "emp_length_< 1 year                    39026 non-null uint8\n",
      "emp_length_n/a                         39026 non-null uint8\n",
      "home_ownership_MORTGAGE                39026 non-null uint8\n",
      "home_ownership_OTHER                   39026 non-null uint8\n",
      "home_ownership_OWN                     39026 non-null uint8\n",
      "home_ownership_RENT                    39026 non-null uint8\n",
      "verification_status_Not Verified       39026 non-null uint8\n",
      "verification_status_Source Verified    39026 non-null uint8\n",
      "verification_status_Verified           39026 non-null uint8\n",
      "purpose_car                            39026 non-null uint8\n",
      "purpose_credit_card                    39026 non-null uint8\n",
      "purpose_debt_consolidation             39026 non-null uint8\n",
      "purpose_educational                    39026 non-null uint8\n",
      "purpose_home_improvement               39026 non-null uint8\n",
      "purpose_house                          39026 non-null uint8\n",
      "purpose_major_purchase                 39026 non-null uint8\n",
      "purpose_medical                        39026 non-null uint8\n",
      "purpose_moving                         39026 non-null uint8\n",
      "purpose_other                          39026 non-null uint8\n",
      "purpose_renewable_energy               39026 non-null uint8\n",
      "purpose_small_business                 39026 non-null uint8\n",
      "purpose_vacation                       39026 non-null uint8\n",
      "purpose_wedding                        39026 non-null uint8\n",
      "debt_settlement_flag_N                 39026 non-null uint8\n",
      "debt_settlement_flag_Y                 39026 non-null uint8\n",
      "dtypes: float64(17), uint8(37)\n",
      "memory usage: 6.7 MB\n"
     ]
    }
   ],
   "source": [
    "dataset.info()"
   ]
  },
  {
   "cell_type": "code",
   "execution_count": 159,
   "metadata": {},
   "outputs": [],
   "source": [
    "#################   MACHINE LEARNING  ################\n",
    "# creation of features\n",
    "features = dataset.drop(['loan_status'], axis = 1)\n",
    "\n",
    "# setting our X and y\n",
    "X = features.values\n",
    "y = dataset['loan_status'].values\n",
    "\n",
    "#  TAKING CARE OF MISSING DATA\n",
    "from sklearn.preprocessing import Imputer\n",
    "imputer = Imputer(missing_values = 'NaN', strategy = 'mean', axis=0)\n",
    "imputer = imputer.fit(X)\n",
    "X = imputer.transform(X)\n",
    "\n",
    "# splitting the dataset\n",
    "from sklearn.model_selection import train_test_split\n",
    "X_train, X_test , y_train , y_test = train_test_split(X, y , test_size=0.2, random_state=0)\n",
    "\n"
   ]
  },
  {
   "cell_type": "code",
   "execution_count": 160,
   "metadata": {},
   "outputs": [
    {
     "data": {
      "text/plain": [
       "1.0    33494\n",
       "0.0     5532\n",
       "Name: loan_status, dtype: int64"
      ]
     },
     "execution_count": 160,
     "metadata": {},
     "output_type": "execute_result"
    }
   ],
   "source": [
    "dataset['loan_status'].value_counts()"
   ]
  },
  {
   "cell_type": "code",
   "execution_count": 161,
   "metadata": {
    "scrolled": true
   },
   "outputs": [
    {
     "name": "stdout",
     "output_type": "stream",
     "text": [
      "[[ 121 1001]\n",
      " [ 198 6486]]\n",
      "[[   3 1119]\n",
      " [   3 6681]]\n",
      "[[  32 1090]\n",
      " [   0 6684]]\n",
      "[[  58 1064]\n",
      " [ 127 6557]]\n"
     ]
    },
    {
     "name": "stderr",
     "output_type": "stream",
     "text": [
      "C:\\Users\\tolaros\\Anaconda3\\lib\\site-packages\\sklearn\\preprocessing\\label.py:151: DeprecationWarning: The truth value of an empty array is ambiguous. Returning False, but in future this will result in an error. Use `array.size > 0` to check that an array is not empty.\n",
      "  if diff:\n"
     ]
    }
   ],
   "source": [
    "# I will inspect four models and have alook at different metrics\n",
    "from sklearn.ensemble import RandomForestClassifier\n",
    "classifier1 = RandomForestClassifier(random_state = 42)\n",
    "from sklearn.linear_model import LogisticRegression\n",
    "classifier2 = LogisticRegression(random_state=42)\n",
    "import xgboost as xgb\n",
    "from xgboost import XGBClassifier\n",
    "classifier3 = XGBClassifier(random_state = 42)\n",
    "from sklearn.naive_bayes import GaussianNB\n",
    "classifier4 = GaussianNB()\n",
    "classifierslist = [classifier1, classifier2, classifier3, classifier4]\n",
    "f1list = []\n",
    "acclist = []\n",
    "preclist = []\n",
    "rocauclist = []\n",
    "\n",
    "for classifier in classifierslist:\n",
    "    classifier.fit(X_train, y_train)\n",
    "    y_pred = classifier.predict(X_test)\n",
    "    from sklearn.metrics import roc_auc_score \n",
    "    from sklearn.metrics import accuracy_score\n",
    "    from sklearn.metrics import f1_score\n",
    "    from sklearn.metrics import precision_score\n",
    "    from sklearn.metrics import confusion_matrix\n",
    "    acc = accuracy_score(y_test, y_pred)\n",
    "    roc = roc_auc_score(y_test, y_pred)\n",
    "    cm = confusion_matrix(y_test, y_pred)\n",
    "    ps = precision_score(y_test, y_pred)\n",
    "    f1 = f1_score(y_test , y_pred)\n",
    "    rocauclist.append(roc)\n",
    "    f1list.append(f1)\n",
    "    acclist.append(acc)\n",
    "    preclist.append(ps)\n",
    "    print(cm)"
   ]
  },
  {
   "cell_type": "code",
   "execution_count": 163,
   "metadata": {},
   "outputs": [
    {
     "name": "stdout",
     "output_type": "stream",
     "text": [
      "[0.9153905864088633, 0.9225352112676056, 0.9246092128925163, 0.9167423977630199] [0.8464002049705355, 0.8562644119907763, 0.8603638227004868, 0.847425057647963] [0.8663015894216642, 0.8565384615384616, 0.8597890403910471, 0.8603857761448629] [0.5391100785017777, 0.5011124818786662, 0.5142602495543672, 0.5163464030952678]\n"
     ]
    }
   ],
   "source": [
    "print(f1list, acclist,preclist,rocauclist)"
   ]
  },
  {
   "cell_type": "code",
   "execution_count": 166,
   "metadata": {},
   "outputs": [
    {
     "name": "stderr",
     "output_type": "stream",
     "text": [
      "C:\\Users\\tolaros\\Anaconda3\\lib\\site-packages\\sklearn\\preprocessing\\label.py:151: DeprecationWarning: The truth value of an empty array is ambiguous. Returning False, but in future this will result in an error. Use `array.size > 0` to check that an array is not empty.\n",
      "  if diff:\n"
     ]
    },
    {
     "data": {
      "text/plain": [
       "<matplotlib.axes._subplots.AxesSubplot at 0x103d2d68>"
      ]
     },
     "execution_count": 166,
     "metadata": {},
     "output_type": "execute_result"
    },
    {
     "data": {
      "image/png": "[encoded data removed]",
      "text/plain": [
       "<matplotlib.figure.Figure at 0x103cc828>"
      ]
     },
     "metadata": {},
     "output_type": "display_data"
    }
   ],
   "source": [
    "# taking a look at all the different metrics, XGB has the best f1, accuracy, and also gives us the\n",
    "# information about feature importance, for which I am curious                                        \n",
    "from xgboost import XGBClassifier\n",
    "classifier = XGBClassifier(random_state = 42)\n",
    "classifier.fit(X_train, y_train)\n",
    "y_pred = classifier.predict(X_test)\n",
    "% matplotlib inline\n",
    "featimp = pd.Series(classifier.feature_importances_ )\n",
    "featimp.sort_values(ascending = False).plot(kind = 'bar')\n",
    "\n"
   ]
  },
  {
   "cell_type": "code",
   "execution_count": 167,
   "metadata": {},
   "outputs": [
    {
     "name": "stdout",
     "output_type": "stream",
     "text": [
      "loan_amnt\n",
      "int_rate\n",
      "installment\n",
      "annual_inc\n",
      "dti\n"
     ]
    }
   ],
   "source": [
    "# we can see that 5 features, outstand, so let us see their names.\n",
    "\n",
    "# making a list with the indexes of the featimp Series object\n",
    "importancelist = featimp.index\n",
    "# getting the top 5 importances of the list\n",
    "for i in importancelist[:5]:\n",
    "# each column index, corresponds to a name of the columns of the featurs dataframe\n",
    "    print(features.columns[i])\n"
   ]
  },
  {
   "cell_type": "code",
   "execution_count": 169,
   "metadata": {},
   "outputs": [
    {
     "data": {
      "text/plain": [
       "0.8582483472556757"
      ]
     },
     "execution_count": 169,
     "metadata": {},
     "output_type": "execute_result"
    }
   ],
   "source": [
    "##### Latter comments#########\n",
    "\n",
    "# We have achieved an accuracy of 86,3% , BUT we would have achieved an accuracy of  \n",
    "dataset['loan_status'].mean()# just by stating that all loans are going to be repaid."
   ]
  },
  {
   "cell_type": "code",
   "execution_count": 170,
   "metadata": {},
   "outputs": [
    {
     "data": {
      "text/html": [
       "<div>\n",
       "<style>\n",
       "    .dataframe thead tr:only-child th {\n",
       "        text-align: right;\n",
       "    }\n",
       "\n",
       "    .dataframe thead th {\n",
       "        text-align: left;\n",
       "    }\n",
       "\n",
       "    .dataframe tbody tr th {\n",
       "        vertical-align: top;\n",
       "    }\n",
       "</style>\n",
       "<table border=\"1\" class=\"dataframe\">\n",
       "  <thead>\n",
       "    <tr style=\"text-align: right;\">\n",
       "      <th></th>\n",
       "      <th>loan_amnt</th>\n",
       "      <th>int_rate</th>\n",
       "      <th>installment</th>\n",
       "      <th>annual_inc</th>\n",
       "      <th>loan_status</th>\n",
       "      <th>dti</th>\n",
       "      <th>delinq_2yrs</th>\n",
       "      <th>inq_last_6mths</th>\n",
       "      <th>open_acc</th>\n",
       "      <th>pub_rec</th>\n",
       "      <th>...</th>\n",
       "      <th>purpose_major_purchase</th>\n",
       "      <th>purpose_medical</th>\n",
       "      <th>purpose_moving</th>\n",
       "      <th>purpose_other</th>\n",
       "      <th>purpose_renewable_energy</th>\n",
       "      <th>purpose_small_business</th>\n",
       "      <th>purpose_vacation</th>\n",
       "      <th>purpose_wedding</th>\n",
       "      <th>debt_settlement_flag_N</th>\n",
       "      <th>debt_settlement_flag_Y</th>\n",
       "    </tr>\n",
       "  </thead>\n",
       "  <tbody>\n",
       "    <tr>\n",
       "      <th>count</th>\n",
       "      <td>39026.000000</td>\n",
       "      <td>39026.000000</td>\n",
       "      <td>39026.000000</td>\n",
       "      <td>3.902600e+04</td>\n",
       "      <td>39026.000000</td>\n",
       "      <td>39026.000000</td>\n",
       "      <td>39026.000000</td>\n",
       "      <td>39026.000000</td>\n",
       "      <td>39026.000000</td>\n",
       "      <td>39026.000000</td>\n",
       "      <td>...</td>\n",
       "      <td>39026.000000</td>\n",
       "      <td>39026.000000</td>\n",
       "      <td>39026.000000</td>\n",
       "      <td>39026.000000</td>\n",
       "      <td>39026.000000</td>\n",
       "      <td>39026.000000</td>\n",
       "      <td>39026.000000</td>\n",
       "      <td>39026.000000</td>\n",
       "      <td>39026.000000</td>\n",
       "      <td>39026.000000</td>\n",
       "    </tr>\n",
       "    <tr>\n",
       "      <th>mean</th>\n",
       "      <td>11263.118818</td>\n",
       "      <td>12.047554</td>\n",
       "      <td>325.015033</td>\n",
       "      <td>6.900435e+04</td>\n",
       "      <td>0.858248</td>\n",
       "      <td>13.366703</td>\n",
       "      <td>0.145621</td>\n",
       "      <td>0.866294</td>\n",
       "      <td>9.298340</td>\n",
       "      <td>0.055578</td>\n",
       "      <td>...</td>\n",
       "      <td>0.055425</td>\n",
       "      <td>0.017527</td>\n",
       "      <td>0.014657</td>\n",
       "      <td>0.099447</td>\n",
       "      <td>0.002639</td>\n",
       "      <td>0.045457</td>\n",
       "      <td>0.009583</td>\n",
       "      <td>0.023779</td>\n",
       "      <td>0.996156</td>\n",
       "      <td>0.003844</td>\n",
       "    </tr>\n",
       "    <tr>\n",
       "      <th>std</th>\n",
       "      <td>7481.001490</td>\n",
       "      <td>3.744767</td>\n",
       "      <td>208.931293</td>\n",
       "      <td>6.312842e+04</td>\n",
       "      <td>0.348800</td>\n",
       "      <td>6.668117</td>\n",
       "      <td>0.490301</td>\n",
       "      <td>1.067178</td>\n",
       "      <td>4.380305</td>\n",
       "      <td>0.238533</td>\n",
       "      <td>...</td>\n",
       "      <td>0.228810</td>\n",
       "      <td>0.131225</td>\n",
       "      <td>0.120177</td>\n",
       "      <td>0.299264</td>\n",
       "      <td>0.051307</td>\n",
       "      <td>0.208307</td>\n",
       "      <td>0.097426</td>\n",
       "      <td>0.152362</td>\n",
       "      <td>0.061878</td>\n",
       "      <td>0.061878</td>\n",
       "    </tr>\n",
       "    <tr>\n",
       "      <th>min</th>\n",
       "      <td>500.000000</td>\n",
       "      <td>5.420000</td>\n",
       "      <td>16.080000</td>\n",
       "      <td>4.000000e+03</td>\n",
       "      <td>0.000000</td>\n",
       "      <td>0.000000</td>\n",
       "      <td>0.000000</td>\n",
       "      <td>0.000000</td>\n",
       "      <td>2.000000</td>\n",
       "      <td>0.000000</td>\n",
       "      <td>...</td>\n",
       "      <td>0.000000</td>\n",
       "      <td>0.000000</td>\n",
       "      <td>0.000000</td>\n",
       "      <td>0.000000</td>\n",
       "      <td>0.000000</td>\n",
       "      <td>0.000000</td>\n",
       "      <td>0.000000</td>\n",
       "      <td>0.000000</td>\n",
       "      <td>0.000000</td>\n",
       "      <td>0.000000</td>\n",
       "    </tr>\n",
       "    <tr>\n",
       "      <th>25%</th>\n",
       "      <td>5500.000000</td>\n",
       "      <td>9.250000</td>\n",
       "      <td>167.340000</td>\n",
       "      <td>4.080000e+04</td>\n",
       "      <td>1.000000</td>\n",
       "      <td>8.240000</td>\n",
       "      <td>0.000000</td>\n",
       "      <td>0.000000</td>\n",
       "      <td>6.000000</td>\n",
       "      <td>0.000000</td>\n",
       "      <td>...</td>\n",
       "      <td>0.000000</td>\n",
       "      <td>0.000000</td>\n",
       "      <td>0.000000</td>\n",
       "      <td>0.000000</td>\n",
       "      <td>0.000000</td>\n",
       "      <td>0.000000</td>\n",
       "      <td>0.000000</td>\n",
       "      <td>0.000000</td>\n",
       "      <td>1.000000</td>\n",
       "      <td>0.000000</td>\n",
       "    </tr>\n",
       "    <tr>\n",
       "      <th>50%</th>\n",
       "      <td>10000.000000</td>\n",
       "      <td>11.860000</td>\n",
       "      <td>280.800000</td>\n",
       "      <td>5.920000e+04</td>\n",
       "      <td>1.000000</td>\n",
       "      <td>13.450000</td>\n",
       "      <td>0.000000</td>\n",
       "      <td>1.000000</td>\n",
       "      <td>9.000000</td>\n",
       "      <td>0.000000</td>\n",
       "      <td>...</td>\n",
       "      <td>0.000000</td>\n",
       "      <td>0.000000</td>\n",
       "      <td>0.000000</td>\n",
       "      <td>0.000000</td>\n",
       "      <td>0.000000</td>\n",
       "      <td>0.000000</td>\n",
       "      <td>0.000000</td>\n",
       "      <td>0.000000</td>\n",
       "      <td>1.000000</td>\n",
       "      <td>0.000000</td>\n",
       "    </tr>\n",
       "    <tr>\n",
       "      <th>75%</th>\n",
       "      <td>15000.000000</td>\n",
       "      <td>14.610000</td>\n",
       "      <td>431.307500</td>\n",
       "      <td>8.250000e+04</td>\n",
       "      <td>1.000000</td>\n",
       "      <td>18.630000</td>\n",
       "      <td>0.000000</td>\n",
       "      <td>1.000000</td>\n",
       "      <td>12.000000</td>\n",
       "      <td>0.000000</td>\n",
       "      <td>...</td>\n",
       "      <td>0.000000</td>\n",
       "      <td>0.000000</td>\n",
       "      <td>0.000000</td>\n",
       "      <td>0.000000</td>\n",
       "      <td>0.000000</td>\n",
       "      <td>0.000000</td>\n",
       "      <td>0.000000</td>\n",
       "      <td>0.000000</td>\n",
       "      <td>1.000000</td>\n",
       "      <td>0.000000</td>\n",
       "    </tr>\n",
       "    <tr>\n",
       "      <th>max</th>\n",
       "      <td>35000.000000</td>\n",
       "      <td>24.590000</td>\n",
       "      <td>1305.190000</td>\n",
       "      <td>6.000000e+06</td>\n",
       "      <td>1.000000</td>\n",
       "      <td>29.990000</td>\n",
       "      <td>11.000000</td>\n",
       "      <td>8.000000</td>\n",
       "      <td>44.000000</td>\n",
       "      <td>4.000000</td>\n",
       "      <td>...</td>\n",
       "      <td>1.000000</td>\n",
       "      <td>1.000000</td>\n",
       "      <td>1.000000</td>\n",
       "      <td>1.000000</td>\n",
       "      <td>1.000000</td>\n",
       "      <td>1.000000</td>\n",
       "      <td>1.000000</td>\n",
       "      <td>1.000000</td>\n",
       "      <td>1.000000</td>\n",
       "      <td>1.000000</td>\n",
       "    </tr>\n",
       "  </tbody>\n",
       "</table>\n",
       "<p>8 rows × 54 columns</p>\n",
       "</div>"
      ],
      "text/plain": [
       "          loan_amnt      int_rate   installment    annual_inc   loan_status  \\\n",
       "count  39026.000000  39026.000000  39026.000000  3.902600e+04  39026.000000   \n",
       "mean   11263.118818     12.047554    325.015033  6.900435e+04      0.858248   \n",
       "std     7481.001490      3.744767    208.931293  6.312842e+04      0.348800   \n",
       "min      500.000000      5.420000     16.080000  4.000000e+03      0.000000   \n",
       "25%     5500.000000      9.250000    167.340000  4.080000e+04      1.000000   \n",
       "50%    10000.000000     11.860000    280.800000  5.920000e+04      1.000000   \n",
       "75%    15000.000000     14.610000    431.307500  8.250000e+04      1.000000   \n",
       "max    35000.000000     24.590000   1305.190000  6.000000e+06      1.000000   \n",
       "\n",
       "                dti   delinq_2yrs  inq_last_6mths      open_acc       pub_rec  \\\n",
       "count  39026.000000  39026.000000    39026.000000  39026.000000  39026.000000   \n",
       "mean      13.366703      0.145621        0.866294      9.298340      0.055578   \n",
       "std        6.668117      0.490301        1.067178      4.380305      0.238533   \n",
       "min        0.000000      0.000000        0.000000      2.000000      0.000000   \n",
       "25%        8.240000      0.000000        0.000000      6.000000      0.000000   \n",
       "50%       13.450000      0.000000        1.000000      9.000000      0.000000   \n",
       "75%       18.630000      0.000000        1.000000     12.000000      0.000000   \n",
       "max       29.990000     11.000000        8.000000     44.000000      4.000000   \n",
       "\n",
       "                ...            purpose_major_purchase  purpose_medical  \\\n",
       "count           ...                      39026.000000     39026.000000   \n",
       "mean            ...                          0.055425         0.017527   \n",
       "std             ...                          0.228810         0.131225   \n",
       "min             ...                          0.000000         0.000000   \n",
       "25%             ...                          0.000000         0.000000   \n",
       "50%             ...                          0.000000         0.000000   \n",
       "75%             ...                          0.000000         0.000000   \n",
       "max             ...                          1.000000         1.000000   \n",
       "\n",
       "       purpose_moving  purpose_other  purpose_renewable_energy  \\\n",
       "count    39026.000000   39026.000000              39026.000000   \n",
       "mean         0.014657       0.099447                  0.002639   \n",
       "std          0.120177       0.299264                  0.051307   \n",
       "min          0.000000       0.000000                  0.000000   \n",
       "25%          0.000000       0.000000                  0.000000   \n",
       "50%          0.000000       0.000000                  0.000000   \n",
       "75%          0.000000       0.000000                  0.000000   \n",
       "max          1.000000       1.000000                  1.000000   \n",
       "\n",
       "       purpose_small_business  purpose_vacation  purpose_wedding  \\\n",
       "count            39026.000000      39026.000000     39026.000000   \n",
       "mean                 0.045457          0.009583         0.023779   \n",
       "std                  0.208307          0.097426         0.152362   \n",
       "min                  0.000000          0.000000         0.000000   \n",
       "25%                  0.000000          0.000000         0.000000   \n",
       "50%                  0.000000          0.000000         0.000000   \n",
       "75%                  0.000000          0.000000         0.000000   \n",
       "max                  1.000000          1.000000         1.000000   \n",
       "\n",
       "       debt_settlement_flag_N  debt_settlement_flag_Y  \n",
       "count            39026.000000            39026.000000  \n",
       "mean                 0.996156                0.003844  \n",
       "std                  0.061878                0.061878  \n",
       "min                  0.000000                0.000000  \n",
       "25%                  1.000000                0.000000  \n",
       "50%                  1.000000                0.000000  \n",
       "75%                  1.000000                0.000000  \n",
       "max                  1.000000                1.000000  \n",
       "\n",
       "[8 rows x 54 columns]"
      ]
     },
     "execution_count": 170,
     "metadata": {},
     "output_type": "execute_result"
    }
   ],
   "source": [
    "dataset.describe()"
   ]
  },
  {
   "cell_type": "code",
   "execution_count": 171,
   "metadata": {},
   "outputs": [
    {
     "data": {
      "text/plain": [
       "439554475.0"
      ]
     },
     "execution_count": 171,
     "metadata": {},
     "output_type": "execute_result"
    }
   ],
   "source": [
    "# the sum of the money loaned is\n",
    "dataset['loan_amnt'].sum() # 439.5 million euros"
   ]
  },
  {
   "cell_type": "code",
   "execution_count": 174,
   "metadata": {},
   "outputs": [
    {
     "data": {
      "text/plain": [
       "28343"
      ]
     },
     "execution_count": 174,
     "metadata": {},
     "output_type": "execute_result"
    }
   ],
   "source": [
    "# Taking a look at the dataset describe matrix we can see that\n",
    "# the average loan amount is 11263 euros. The avg int rate is 12%.\n",
    "# as we recall there were two major time spans for returning the money.\n",
    "# 36 months and 60 months. Let us take a look more closely, because they were\n",
    "# used as dummy variables\n",
    "dataset['term_ 36 months'].sum() \n"
   ]
  },
  {
   "cell_type": "code",
   "execution_count": 173,
   "metadata": {},
   "outputs": [
    {
     "data": {
      "text/plain": [
       "10683"
      ]
     },
     "execution_count": 173,
     "metadata": {},
     "output_type": "execute_result"
    }
   ],
   "source": [
    "dataset['term_ 60 months'].sum() "
   ]
  },
  {
   "cell_type": "code",
   "execution_count": null,
   "metadata": {
    "collapsed": true
   },
   "outputs": [],
   "source": [
    "# After some calculations we can say that every 36 months loan, will return around\n",
    "# 2200 euros of profit, and each 60 month loan will return a 3800 euros of profit.\n",
    "# To be more precise the weighted average profit is (28343/39026) * 2200euros + \n",
    "# (10683/39026)* 3800 euros = 2650 approximately. Meaning that from every loan we\n",
    "# expect an average 2650 return. Of course it is an approximation, but it  gives\n",
    "# us a  good clue."
   ]
  },
  {
   "cell_type": "code",
   "execution_count": null,
   "metadata": {
    "collapsed": true
   },
   "outputs": [],
   "source": [
    "# So, regarding our predictions, we should focus mostly on avoiding bad loans,\n",
    "# meaning loans that we predict they will be ok, but they end up in default,(false positives),\n",
    "# because if we give such a loan, we will loose 11250 euros. On the other hand, if \n",
    "# we predict that someone will not repay his loan, and decide not to grant him a loan\n",
    "# it is not such a big loss, because we loose a potential profit of 2650 euros,\n",
    "# BUT we  are risk free. We just lost an opportunity,still there is no risk in our money.\n",
    "# So, let us focus again on the false positives."
   ]
  },
  {
   "cell_type": "code",
   "execution_count": null,
   "metadata": {
    "collapsed": true
   },
   "outputs": [],
   "source": [
    "# Taking a look, the cm with the least false positives is that of the logistic \n",
    "# regression, and this suits us perfectly,because the model has a parameter called\n",
    "# class_weight. This tells scikit-learn to penalize the misclassification\n",
    "# of the minority class during the training process"
   ]
  },
  {
   "cell_type": "code",
   "execution_count": 176,
   "metadata": {},
   "outputs": [
    {
     "name": "stdout",
     "output_type": "stream",
     "text": [
      "[[ 714  408]\n",
      " [2312 4372]]\n"
     ]
    }
   ],
   "source": [
    "# Let us re-train the logistic regression with the change in the hyperparameter\n",
    "classifier = LogisticRegression(class_weight=\"balanced\")\n",
    "classifier.fit(X_train, y_train)\n",
    "y_pred = classifier.predict(X_test)\n",
    "from sklearn.metrics import confusion_matrix\n",
    "cm = confusion_matrix(y_test, y_pred)\n",
    "print(cm)"
   ]
  },
  {
   "cell_type": "code",
   "execution_count": null,
   "metadata": {
    "collapsed": true
   },
   "outputs": [],
   "source": [
    "# now we can see that the false positives number has fallen to 408, but in respect\n",
    "# the number of false negatives , true negatives have risen, and the number of\n",
    "# true positives has also fallen. What is important for us is that the ratio between \n",
    "# the true positives and the false positives should be better than 5 to 1.\n",
    "# For every 5 correct predictions, that will yield us 5 * 2650 = 13250, we can tolerate\n",
    "# to mispredict 1 that will mean 11250 loss. Our ratio now is 4372/408 = 10.7\n",
    "# which is pretty decent."
   ]
  },
  {
   "cell_type": "code",
   "execution_count": 177,
   "metadata": {
    "collapsed": true
   },
   "outputs": [],
   "source": [
    "# My final test would be, to randomply split our dataset into several different\n",
    "# training and testing sets, and calculate the average  number of false positives\n",
    "# So I will create a empty list called false positivelist and append the\n",
    "# cm[0,1] = number of false positives, and correspondingly do the same for\n",
    "# the true positives:\n",
    "truepositivelist = []\n",
    "falsepositivelist = []\n",
    "for i in np.random.randint(1000, size=20):\n",
    "    from sklearn.model_selection import train_test_split\n",
    "    X_train, X_test , y_train , y_test = train_test_split(X, y , test_size=0.2, \n",
    "                                                      random_state=i)\n",
    "    classifier = LogisticRegression(class_weight=\"balanced\")\n",
    "    classifier.fit(X_train, y_train)\n",
    "    y_pred = classifier.predict(X_test)\n",
    "    from sklearn.metrics import confusion_matrix\n",
    "    cm = confusion_matrix(y_test, y_pred)\n",
    "    falsepositivelist.append(cm[0,1])\n",
    "    truepositivelist.append(cm[1,1])"
   ]
  },
  {
   "cell_type": "code",
   "execution_count": 178,
   "metadata": {},
   "outputs": [
    {
     "name": "stdout",
     "output_type": "stream",
     "text": [
      "[401, 416, 419, 427, 420, 383, 407, 419, 425, 392, 414, 401, 409, 370, 446, 383, 423, 447, 405, 420]\n"
     ]
    }
   ],
   "source": [
    "print(falsepositivelist)"
   ]
  },
  {
   "cell_type": "code",
   "execution_count": 179,
   "metadata": {},
   "outputs": [
    {
     "data": {
      "text/plain": [
       "411.35"
      ]
     },
     "execution_count": 179,
     "metadata": {},
     "output_type": "execute_result"
    }
   ],
   "source": [
    "np.mean(falsepositivelist)"
   ]
  },
  {
   "cell_type": "code",
   "execution_count": 180,
   "metadata": {},
   "outputs": [
    {
     "data": {
      "text/plain": [
       "19.110926194195823"
      ]
     },
     "execution_count": 180,
     "metadata": {},
     "output_type": "execute_result"
    }
   ],
   "source": [
    "np.std(falsepositivelist)"
   ]
  },
  {
   "cell_type": "code",
   "execution_count": 182,
   "metadata": {},
   "outputs": [
    {
     "name": "stdout",
     "output_type": "stream",
     "text": [
      "[4415, 4414, 4462, 4476, 4449, 4457, 4399, 4473, 4509, 4428, 4433, 4415, 4439, 4381, 4352, 4381, 4432, 4417, 4404, 4426]\n"
     ]
    }
   ],
   "source": [
    "print(truepositivelist)"
   ]
  },
  {
   "cell_type": "code",
   "execution_count": 181,
   "metadata": {},
   "outputs": [
    {
     "data": {
      "text/plain": [
       "4428.1"
      ]
     },
     "execution_count": 181,
     "metadata": {},
     "output_type": "execute_result"
    }
   ],
   "source": [
    "np.mean(truepositivelist)"
   ]
  },
  {
   "cell_type": "code",
   "execution_count": 183,
   "metadata": {},
   "outputs": [
    {
     "data": {
      "text/plain": [
       "35.888577570029156"
      ]
     },
     "execution_count": 183,
     "metadata": {},
     "output_type": "execute_result"
    }
   ],
   "source": [
    "np.std(truepositivelist)"
   ]
  },
  {
   "cell_type": "code",
   "execution_count": null,
   "metadata": {
    "collapsed": true
   },
   "outputs": [],
   "source": [
    "# So , the average false positive number is 410 with an acceptable std of 15 and the \n",
    "# the average true positive list is 4392 with an std of 52. Our ratio based on these\n",
    "# averages is 4392/410 = 10.71 , which is highly acceptable and profitable"
   ]
  },
  {
   "cell_type": "code",
   "execution_count": null,
   "metadata": {
    "collapsed": true
   },
   "outputs": [],
   "source": []
  },
  {
   "cell_type": "code",
   "execution_count": null,
   "metadata": {
    "collapsed": true
   },
   "outputs": [],
   "source": [
    "\n",
    "\n",
    "\n",
    "\n",
    "\n",
    "\n",
    "\n",
    "\n",
    "telling the classifier to penalize certain rows more, is actually much easier to\n",
    "implement using scikit-learn.\n",
    "\n",
    "We can do this by setting the class_weight parameter to balanced when creating the \n",
    "LogisticRegression instance. This tells scikit-learn  The penalty means that the logistic\n",
    "regression classifier pays more attention to correctly classifying rows where \n",
    "loan_status is 0. This lowers accuracy when loan_status is 1, but raises accuracy when\n",
    "loan_status is 0.\n",
    "\n"
   ]
  },
  {
   "cell_type": "code",
   "execution_count": null,
   "metadata": {
    "collapsed": true
   },
   "outputs": [],
   "source": []
  },
  {
   "cell_type": "code",
   "execution_count": null,
   "metadata": {
    "collapsed": true
   },
   "outputs": [],
   "source": []
  },
  {
   "cell_type": "code",
   "execution_count": null,
   "metadata": {
    "collapsed": true
   },
   "outputs": [],
   "source": [
    "\n",
    "\n",
    "\n",
    "\n",
    "\n",
    "\n",
    "\n",
    "# taking a look at all the different metrics, XGB has the best f1, accuracy, and also gives us the\n",
    "# information about feature importance, for which I am curious                                        \n",
    "from xgboost import XGBClassifier\n",
    "classifier = XGBClassifier(random_state = 42)\n",
    "classifier.fit(X_train, y_train)\n",
    "y_pred = classifier.predict(X_test)\n",
    "\n",
    "featimp = pd.Series(classifier.feature_importances_ )\n",
    "featimp.sort_values(ascending = False).plot(kind = 'bar')\n",
    "classifier.feature_importances_\n",
    "\n",
    "# we can see that 5 features, outstand, so let us see their names.\n",
    "\n",
    "# making a list with the indexes of the featimp Series object\n",
    "importancelist = featimp.index\n",
    "# getting the top 5 importances of the list\n",
    "for i in importancelist[:2]:\n",
    "# each column index, corresponds to a name of the columns of the featurs dataframe\n",
    "    print(features.columns[i])\n",
    "    \n",
    "# Comments: the annual income of an individual(makes perfect sense) and the int rate of the loan\n",
    "# are the two most important factors\n",
    "# Predicting the result\n",
    "y_pred = classifier.predict(X_test)\n",
    "\n",
    "\n",
    "      \n",
    "#  MAKING CONFUSION MATRIX, PRECISION SCORES, ETC    \n",
    "from sklearn.metrics import confusion_matrix\n",
    "from sklearn.metrics import classification_report\n",
    "from sklearn.metrics import precision_score\n",
    "from sklearn.metrics import accuracy_score\n",
    "clsfrprt = classification_report(y_test, y_pred)\n",
    "cm = confusion_matrix(y_test, y_pred)\n",
    "ps = precision_score(y_test, y_pred)\n",
    "acc = accuracy_score(y_test, y_pred)\n",
    "print (cm)\n",
    "\n",
    "\n",
    "# APPLYING K-FOLD CROSS VALIDATION, to ensure that our model has no bias or variance on its predictions\n"
   ]
  }
 ],
 "metadata": {
  "kernelspec": {
   "display_name": "Python 3",
   "language": "python",
   "name": "python3"
  },
  "language_info": {
   "codemirror_mode": {
    "name": "ipython",
    "version": 3
   },
   "file_extension": ".py",
   "mimetype": "text/x-python",
   "name": "python",
   "nbconvert_exporter": "python",
   "pygments_lexer": "ipython3",
   "version": "3.6.3"
  }
 },
 "nbformat": 4,
 "nbformat_minor": 2
}
